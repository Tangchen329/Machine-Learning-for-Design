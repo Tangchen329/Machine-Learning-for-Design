{
 "cells": [
  {
   "cell_type": "code",
   "execution_count": 22,
   "metadata": {
    "collapsed": true
   },
   "outputs": [],
   "source": [
    "X = [[60], [140], [210], [380], [860]]\n",
    "y = [[42], [91], [96], [240], [420]]"
   ]
  },
  {
   "cell_type": "code",
   "execution_count": 23,
   "metadata": {
    "collapsed": true
   },
   "outputs": [],
   "source": [
    "%matplotlib inline\n",
    "import matplotlib.pyplot as plt\n",
    "from matplotlib.font_manager import FontProperties\n",
    "#font = FontProperties(fname=r\"c:\\windows\\fonts\\msyh.ttc\", size=10)"
   ]
  },
  {
   "cell_type": "code",
   "execution_count": 24,
   "metadata": {},
   "outputs": [
    {
     "data": {
      "image/png": "[encoded data removed]",
      "text/plain": [
       "<matplotlib.figure.Figure at 0x11b4bfd30>"
      ]
     },
     "metadata": {},
     "output_type": "display_data"
    }
   ],
   "source": [
    "def generateplt():\n",
    "    plt.figure()\n",
    "    plt.title('高铁价格与里程数据')#,fontproperties=font)\n",
    "    plt.xlabel('里程（公里）')#,fontproperties=font)\n",
    "    plt.ylabel('价格（人民币元）')#,fontproperties=font)\n",
    "    plt.axis([0, 1000, 0, 500])\n",
    "    plt.grid(True)\n",
    "    return plt\n",
    "\n",
    "plt = generateplt()\n",
    "plt.plot(X, y, 'k.')\n",
    "plt.show()"
   ]
  },
  {
   "cell_type": "code",
   "execution_count": 25,
   "metadata": {
    "collapsed": true
   },
   "outputs": [],
   "source": [
    "from sklearn.linear_model import LinearRegression"
   ]
  },
  {
   "cell_type": "code",
   "execution_count": 26,
   "metadata": {},
   "outputs": [
    {
     "name": "stdout",
     "output_type": "stream",
     "text": [
      "预测一张600公里里程的高铁票的价格：￥307\n",
      "预测一张600公里里程的高铁票的价格：￥364\n"
     ]
    },
    {
     "name": "stderr",
     "output_type": "stream",
     "text": [
      "/anaconda/lib/python3.6/site-packages/sklearn/utils/validation.py:395: DeprecationWarning: Passing 1d arrays as data is deprecated in 0.17 and will raise ValueError in 0.19. Reshape your data either using X.reshape(-1, 1) if your data has a single feature or X.reshape(1, -1) if it contains a single sample.\n",
      "  DeprecationWarning)\n",
      "/anaconda/lib/python3.6/site-packages/sklearn/utils/validation.py:395: DeprecationWarning: Passing 1d arrays as data is deprecated in 0.17 and will raise ValueError in 0.19. Reshape your data either using X.reshape(-1, 1) if your data has a single feature or X.reshape(1, -1) if it contains a single sample.\n",
      "  DeprecationWarning)\n"
     ]
    }
   ],
   "source": [
    "# 创建并拟合模型\n",
    "model = LinearRegression()\n",
    "model.fit(X, y)\n",
    "print('预测一张600公里里程的高铁票的价格：￥%.0f' % model.predict([600])[0])\n",
    "print('预测一张600公里里程的高铁票的价格：￥%.0f' % model.predict([720])[0])"
   ]
  },
  {
   "cell_type": "code",
   "execution_count": 27,
   "metadata": {},
   "outputs": [
    {
     "data": {
      "image/png": "[encoded data removed]",
      "text/plain": [
       "<matplotlib.figure.Figure at 0x11d9e9518>"
      ]
     },
     "metadata": {},
     "output_type": "display_data"
    }
   ],
   "source": [
    "plt = generateplt()\n",
    "plt.plot(X, y, 'k.')\n",
    "X2 = [[180], [360], [600], [720], [850]]\n",
    "\n",
    "y2 = model.predict(X2)\n",
    "plt.plot(X, y, 'k.')\n",
    "plt.plot(X2, y2, 'g-')\n",
    "plt.show()"
   ]
  },
  {
   "cell_type": "code",
   "execution_count": 28,
   "metadata": {},
   "outputs": [
    {
     "data": {
      "image/png": "[encoded data removed]",
      "text/plain": [
       "<matplotlib.figure.Figure at 0x11da01f60>"
      ]
     },
     "metadata": {},
     "output_type": "display_data"
    }
   ],
   "source": [
    "\n",
    "plt = generateplt()\n",
    "plt.plot(X, y, 'k.')\n",
    "X2 = [[60], [140], [210], [380], [860]]\n",
    "model = LinearRegression()\n",
    "model.fit(X, y)\n",
    "y2 = model.predict(X2)\n",
    "plt.plot(X, y, 'k.')\n",
    "plt.plot(X2, y2, 'g-')\n",
    "# 残差预测值\n",
    "yr = model.predict(X)\n",
    "for idx, x in enumerate(X):\n",
    "    plt.plot([x, x], [y[idx], yr[idx]], 'r-')\n",
    "    \n",
    "plt.show()"
   ]
  },
  {
   "cell_type": "code",
   "execution_count": 29,
   "metadata": {},
   "outputs": [
    {
     "name": "stdout",
     "output_type": "stream",
     "text": [
      "101700.0\n"
     ]
    }
   ],
   "source": [
    "# 如果是Python2，加from __future__ import division\n",
    "xbar = (60 + 140 + 210 + 380 + 860) / 5\n",
    "variance = ((60 - xbar)**2 + (140 - xbar)**2 + (210 - xbar)**2 + (380 - xbar)**2 + (860 - xbar)**2) / 4\n",
    "print(variance)"
   ]
  },
  {
   "cell_type": "code",
   "execution_count": 30,
   "metadata": {
    "collapsed": true
   },
   "outputs": [],
   "source": [
    "import numpy as np"
   ]
  },
  {
   "cell_type": "code",
   "execution_count": 31,
   "metadata": {},
   "outputs": [
    {
     "name": "stdout",
     "output_type": "stream",
     "text": [
      "101700.0\n"
     ]
    }
   ],
   "source": [
    "print(np.var([60, 140, 210, 380, 860], ddof=1))"
   ]
  },
  {
   "cell_type": "code",
   "execution_count": 32,
   "metadata": {},
   "outputs": [
    {
     "name": "stdout",
     "output_type": "stream",
     "text": [
      "40890.0\n"
     ]
    }
   ],
   "source": [
    "ybar = (42 + 72 + 96 + 186 + 360) / 5\n",
    "cov = ((60 - xbar) * (42 - ybar) + (140 - xbar) * (72 - ybar) + (210 - xbar) *(96 - ybar) + (380 - xbar)* (186 - ybar) + (860 - xbar) * (360 - ybar)) / 4\n",
    "print(cov)"
   ]
  },
  {
   "cell_type": "code",
   "execution_count": 33,
   "metadata": {},
   "outputs": [
    {
     "name": "stdout",
     "output_type": "stream",
     "text": [
      "40890.0\n"
     ]
    }
   ],
   "source": [
    "print(np.cov([60, 140, 210, 380, 860], [42, 72, 96, 186, 360])[0][1])"
   ]
  },
  {
   "cell_type": "code",
   "execution_count": 34,
   "metadata": {},
   "outputs": [
    {
     "name": "stdout",
     "output_type": "stream",
     "text": [
      "0.4020648967551622\n"
     ]
    }
   ],
   "source": [
    "b = cov / variance\n",
    "print(b)"
   ]
  },
  {
   "cell_type": "markdown",
   "metadata": {},
   "source": [
    "a = ybar - b*xbar"
   ]
  },
  {
   "cell_type": "code",
   "execution_count": 35,
   "metadata": {},
   "outputs": [
    {
     "name": "stdout",
     "output_type": "stream",
     "text": [
      "18.518584070796464\n"
     ]
    }
   ],
   "source": [
    "a = ybar - b * xbar\n",
    "print(a)"
   ]
  },
  {
   "cell_type": "markdown",
   "metadata": {},
   "source": [
    "y = 18.5 + 0.4*x"
   ]
  },
  {
   "cell_type": "code",
   "execution_count": 36,
   "metadata": {},
   "outputs": [
    {
     "name": "stdout",
     "output_type": "stream",
     "text": [
      "一张180公里里程的高铁票的价格：￥91\n",
      "一张320公里里程的高铁票的价格：￥147\n"
     ]
    }
   ],
   "source": [
    "price1 = a + b * 180\n",
    "price2 = a + b * 320\n",
    "print('一张180公里里程的高铁票的价格：￥%.0f' % price1)\n",
    "print('一张320公里里程的高铁票的价格：￥%.0f' % price2)"
   ]
  },
  {
   "cell_type": "code",
   "execution_count": 38,
   "metadata": {},
   "outputs": [
    {
     "name": "stdout",
     "output_type": "stream",
     "text": [
      "95656.0\n"
     ]
    }
   ],
   "source": [
    "mean = (40 + 116 + 175 + 306 + 428) / 5\n",
    "SStot = (40 - mean)*(40 - mean) + (116 - mean)*(116 - mean) + (175 - mean)*(175 - mean) + (306 - mean)*(306 - mean) + (428 - mean)*(428 - mean)\n",
    "print(SStot)"
   ]
  },
  {
   "cell_type": "code",
   "execution_count": 39,
   "metadata": {},
   "outputs": [
    {
     "name": "stdout",
     "output_type": "stream",
     "text": [
      "5770\n"
     ]
    }
   ],
   "source": [
    "SSres = (40-54)*(40-54) + (116-121)*(116-121) + (175-173)*(175-173) + (360-291)*(360-291) + (428-400)*(428-400)\n",
    "print(SSres)"
   ]
  },
  {
   "cell_type": "code",
   "execution_count": 40,
   "metadata": {},
   "outputs": [
    {
     "name": "stdout",
     "output_type": "stream",
     "text": [
      "0.9396796855398512\n"
     ]
    }
   ],
   "source": [
    "R2 = 1- SSres / SStot\n",
    "print(R2)"
   ]
  },
  {
   "cell_type": "code",
   "execution_count": 42,
   "metadata": {},
   "outputs": [
    {
     "data": {
      "text/plain": [
       "0.97636589465605261"
      ]
     },
     "execution_count": 42,
     "metadata": {},
     "output_type": "execute_result"
    }
   ],
   "source": [
    "# 测试集\n",
    "#X_test = [[88], [256], [384], [678], [950]]\n",
    "#y_test = [[40], [116], [175], [306], [428]]\n",
    "#model = LinearRegression()\n",
    "#model.fit(X, y)\n",
    "#thisY = model.predict(X_test)\n",
    "#print(thisY)\n",
    "model.score(X, y)"
   ]
  },
  {
   "cell_type": "code",
   "execution_count": null,
   "metadata": {
    "collapsed": true
   },
   "outputs": [],
   "source": []
  }
 ],
 "metadata": {
  "kernelspec": {
   "display_name": "Python 3",
   "language": "python",
   "name": "python3"
  },
  "language_info": {
   "codemirror_mode": {
    "name": "ipython",
    "version": 3
   },
   "file_extension": ".py",
   "mimetype": "text/x-python",
   "name": "python",
   "nbconvert_exporter": "python",
   "pygments_lexer": "ipython3",
   "version": "3.6.1"
  }
 },
 "nbformat": 4,
 "nbformat_minor": 2
}
